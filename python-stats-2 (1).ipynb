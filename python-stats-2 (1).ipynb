{
 "cells": [
  {
   "cell_type": "code",
   "execution_count": 2,
   "id": "fd8954ff",
   "metadata": {},
   "outputs": [],
   "source": [
    "import numpy as np\n",
    "from statistics import mode"
   ]
  },
  {
   "cell_type": "code",
   "execution_count": 6,
   "id": "ced552f4",
   "metadata": {},
   "outputs": [],
   "source": [
    "population=np.random.randint(10,20,50)"
   ]
  },
  {
   "cell_type": "code",
   "execution_count": 7,
   "id": "c715a52f",
   "metadata": {},
   "outputs": [
    {
     "data": {
      "text/plain": [
       "array([14, 12, 12, 18, 12, 16, 13, 10, 15, 13, 15, 17, 13, 12, 19, 12, 19,\n",
       "       12, 14, 16, 18, 11, 11, 18, 14, 12, 15, 10, 10, 12, 10, 13, 17, 11,\n",
       "       19, 10, 10, 18, 11, 18, 10, 13, 14, 10, 19, 18, 16, 12, 12, 11])"
      ]
     },
     "execution_count": 7,
     "metadata": {},
     "output_type": "execute_result"
    }
   ],
   "source": [
    "population"
   ]
  },
  {
   "cell_type": "code",
   "execution_count": 8,
   "id": "8774082d",
   "metadata": {},
   "outputs": [
    {
     "data": {
      "text/plain": [
       "13.74"
      ]
     },
     "execution_count": 8,
     "metadata": {},
     "output_type": "execute_result"
    }
   ],
   "source": [
    "np.mean(population)"
   ]
  },
  {
   "cell_type": "code",
   "execution_count": 9,
   "id": "fee8ebcf",
   "metadata": {},
   "outputs": [
    {
     "data": {
      "text/plain": [
       "13.0"
      ]
     },
     "execution_count": 9,
     "metadata": {},
     "output_type": "execute_result"
    }
   ],
   "source": [
    "np.median(population)"
   ]
  },
  {
   "cell_type": "code",
   "execution_count": 10,
   "id": "9ff96a48",
   "metadata": {},
   "outputs": [
    {
     "data": {
      "text/plain": [
       "12"
      ]
     },
     "execution_count": 10,
     "metadata": {},
     "output_type": "execute_result"
    }
   ],
   "source": [
    "mode(population)"
   ]
  },
  {
   "cell_type": "code",
   "execution_count": 12,
   "id": "15ba9fec",
   "metadata": {},
   "outputs": [
    {
     "name": "stdout",
     "output_type": "stream",
     "text": [
      "mean of the population 13.74\n"
     ]
    }
   ],
   "source": [
    "print(f\"mean of the population {np.mean(population)}\")"
   ]
  },
  {
   "cell_type": "code",
   "execution_count": 16,
   "id": "8a4f5337",
   "metadata": {},
   "outputs": [],
   "source": [
    "sample=np.random.choice(population,20)"
   ]
  },
  {
   "cell_type": "code",
   "execution_count": 17,
   "id": "368f65e1",
   "metadata": {},
   "outputs": [
    {
     "name": "stdout",
     "output_type": "stream",
     "text": [
      "mean of the sample 13.74\n"
     ]
    }
   ],
   "source": [
    "print(f\"mean of the sample {np.mean(population)}\")"
   ]
  },
  {
   "cell_type": "code",
   "execution_count": 18,
   "id": "e7fd45e6",
   "metadata": {},
   "outputs": [],
   "source": [
    "sample1=np.random.choice(population,20)\n",
    "sample2=np.random.choice(population,20)\n",
    "sample3=np.random.choice(population,20)\n",
    "sample4=np.random.choice(population,20)"
   ]
  },
  {
   "cell_type": "code",
   "execution_count": 19,
   "id": "f05f5683",
   "metadata": {},
   "outputs": [
    {
     "name": "stdout",
     "output_type": "stream",
     "text": [
      "[13 19 13 18 10 11 14 10 18 13 13 14 18 19 13 15 18 12 16 14]\n",
      "==================================================\n",
      "[13 10 15 14 12 18 11 11 19 14 14 12 14 13 11 11 19 11 13 19]\n",
      "==================================================\n",
      "[10 11 10 10 10 16 18 10 11 13 16 12 11 12 12 19 14 13 12 11]\n",
      "==================================================\n",
      "[11 11 18 10 10 10 10 18 11 17 18 16 15 12 18 19 18 17 10 13]\n"
     ]
    }
   ],
   "source": [
    "print(sample1)\n",
    "print(50*\"=\")\n",
    "print(sample2)\n",
    "print(50*\"=\")\n",
    "print(sample3)\n",
    "print(50*\"=\")\n",
    "print(sample4)"
   ]
  },
  {
   "cell_type": "code",
   "execution_count": 24,
   "id": "6a29993e",
   "metadata": {},
   "outputs": [],
   "source": [
    "mean_of_samples = []\n",
    "\n",
    "all_sample=[sample1,sample2,sample3,sample4]\n",
    "\n",
    "for sample in all_sample:\n",
    "    mean_of_samples.append(np.mean(sample))"
   ]
  },
  {
   "cell_type": "code",
   "execution_count": 25,
   "id": "0641e59c",
   "metadata": {},
   "outputs": [
    {
     "data": {
      "text/plain": [
       "[14.55, 13.7, 12.55, 14.1]"
      ]
     },
     "execution_count": 25,
     "metadata": {},
     "output_type": "execute_result"
    }
   ],
   "source": [
    "mean_of_samples"
   ]
  },
  {
   "cell_type": "markdown",
   "id": "a459e5f1",
   "metadata": {},
   "source": [
    "# central limit theorem"
   ]
  },
  {
   "cell_type": "code",
   "execution_count": 26,
   "id": "41b1ba52",
   "metadata": {},
   "outputs": [],
   "source": [
    "population=np.random.binomial(10,0.5,10000)"
   ]
  },
  {
   "cell_type": "code",
   "execution_count": 27,
   "id": "803bfb6f",
   "metadata": {},
   "outputs": [
    {
     "name": "stdout",
     "output_type": "stream",
     "text": [
      "[ 6 10  3 ...  5  5  6]\n"
     ]
    }
   ],
   "source": [
    "print(population)"
   ]
  },
  {
   "cell_type": "code",
   "execution_count": 28,
   "id": "e4f33db9",
   "metadata": {},
   "outputs": [
    {
     "data": {
      "text/plain": [
       "10000"
      ]
     },
     "execution_count": 28,
     "metadata": {},
     "output_type": "execute_result"
    }
   ],
   "source": [
    "len(population)"
   ]
  },
  {
   "cell_type": "code",
   "execution_count": 31,
   "id": "2229cdd4",
   "metadata": {},
   "outputs": [
    {
     "data": {
      "text/plain": [
       "3000.0"
      ]
     },
     "execution_count": 31,
     "metadata": {},
     "output_type": "execute_result"
    }
   ],
   "source": [
    "int(len(population))*0.30"
   ]
  },
  {
   "cell_type": "code",
   "execution_count": 34,
   "id": "0aad8390",
   "metadata": {},
   "outputs": [],
   "source": [
    "size=int(len(population)*0.30)"
   ]
  },
  {
   "cell_type": "code",
   "execution_count": 29,
   "id": "34ba816b",
   "metadata": {},
   "outputs": [
    {
     "name": "stderr",
     "output_type": "stream",
     "text": [
      "C:\\Users\\DELL\\AppData\\Local\\Temp\\ipykernel_7924\\2113714884.py:2: UserWarning: \n",
      "\n",
      "`distplot` is a deprecated function and will be removed in seaborn v0.14.0.\n",
      "\n",
      "Please adapt your code to use either `displot` (a figure-level function with\n",
      "similar flexibility) or `histplot` (an axes-level function for histograms).\n",
      "\n",
      "For a guide to updating your code to use the new functions, please see\n",
      "https://gist.github.com/mwaskom/de44147ed2974457ad6372750bbe5751\n",
      "\n",
      "  sns.distplot(population)\n"
     ]
    },
    {
     "data": {
      "text/plain": [
       "<Axes: ylabel='Density'>"
      ]
     },
     "execution_count": 29,
     "metadata": {},
     "output_type": "execute_result"
    },
    {
     "data": {
      "image/png": "[encoded data removed]",
      "text/plain": [
       "<Figure size 640x480 with 1 Axes>"
      ]
     },
     "metadata": {},
     "output_type": "display_data"
    }
   ],
   "source": [
    "import seaborn as sns\n",
    "sns.distplot(population)"
   ]
  },
  {
   "cell_type": "code",
   "execution_count": 36,
   "id": "0ae0b261",
   "metadata": {},
   "outputs": [
    {
     "name": "stdout",
     "output_type": "stream",
     "text": [
      "[7 6 6 ... 4 2 4]\n",
      "[3 4 4 ... 4 4 3]\n",
      "[8 4 4 ... 1 4 4]\n",
      "[5 3 6 ... 7 8 4]\n",
      "[6 5 5 ... 4 6 2]\n",
      "[6 8 5 ... 5 4 7]\n",
      "[3 4 5 ... 7 6 5]\n",
      "[2 5 4 ... 4 6 5]\n",
      "[4 4 3 ... 4 7 8]\n",
      "[6 6 7 ... 3 6 5]\n",
      "[6 6 5 ... 4 6 6]\n",
      "[5 5 5 ... 6 5 7]\n",
      "[5 3 3 ... 5 5 6]\n",
      "[4 2 7 ... 4 3 4]\n",
      "[5 5 3 ... 7 7 5]\n",
      "[6 5 5 ... 5 7 6]\n",
      "[5 7 7 ... 3 5 4]\n",
      "[8 6 4 ... 6 6 4]\n",
      "[5 5 6 ... 4 4 6]\n",
      "[5 6 8 ... 6 6 6]\n",
      "[4 5 6 ... 4 3 5]\n",
      "[4 5 6 ... 4 6 5]\n",
      "[6 7 3 ... 4 7 3]\n",
      "[4 7 5 ... 6 6 6]\n",
      "[5 4 4 ... 4 7 3]\n",
      "[7 2 1 ... 4 7 4]\n",
      "[5 5 5 ... 5 5 5]\n",
      "[6 2 6 ... 4 4 3]\n",
      "[6 7 5 ... 7 3 8]\n",
      "[7 7 8 ... 4 4 7]\n"
     ]
    }
   ],
   "source": [
    "sample_mean=[]\n",
    "for i in range(1,31):\n",
    "    print(np.random.choice(population,size=size))"
   ]
  },
  {
   "cell_type": "code",
   "execution_count": 37,
   "id": "84d03dd5",
   "metadata": {},
   "outputs": [],
   "source": [
    "sample_mean=[]\n",
    "for i in range(1,31):\n",
    "    sample=np.random.choice(population,size=size)\n",
    "    sample_mean.append(np.mean(sample))"
   ]
  },
  {
   "cell_type": "code",
   "execution_count": 38,
   "id": "d0a76a39",
   "metadata": {},
   "outputs": [
    {
     "name": "stdout",
     "output_type": "stream",
     "text": [
      "[4.992333333333334, 4.964333333333333, 4.958, 5.0263333333333335, 5.004666666666667, 4.973333333333334, 4.978666666666666, 5.003, 5.046, 5.058333333333334, 4.933, 4.982666666666667, 4.982333333333333, 4.9736666666666665, 5.030333333333333, 4.958666666666667, 4.997333333333334, 5.022666666666667, 5.03, 4.976333333333334, 4.982666666666667, 4.965, 5.041, 5.014666666666667, 4.987, 5.006, 4.963333333333333, 5.009333333333333, 4.956, 5.000333333333334]\n"
     ]
    }
   ],
   "source": [
    "print(sample_mean)"
   ]
  },
  {
   "cell_type": "code",
   "execution_count": 39,
   "id": "de68b333",
   "metadata": {},
   "outputs": [
    {
     "name": "stderr",
     "output_type": "stream",
     "text": [
      "C:\\Users\\DELL\\AppData\\Local\\Temp\\ipykernel_7924\\514007480.py:1: UserWarning: \n",
      "\n",
      "`distplot` is a deprecated function and will be removed in seaborn v0.14.0.\n",
      "\n",
      "Please adapt your code to use either `displot` (a figure-level function with\n",
      "similar flexibility) or `histplot` (an axes-level function for histograms).\n",
      "\n",
      "For a guide to updating your code to use the new functions, please see\n",
      "https://gist.github.com/mwaskom/de44147ed2974457ad6372750bbe5751\n",
      "\n",
      "  sns.distplot(sample_mean)\n"
     ]
    },
    {
     "data": {
      "text/plain": [
       "<Axes: ylabel='Density'>"
      ]
     },
     "execution_count": 39,
     "metadata": {},
     "output_type": "execute_result"
    },
    {
     "data": {
      "image/png": "[encoded data removed]",
      "text/plain": [
       "<Figure size 640x480 with 1 Axes>"
      ]
     },
     "metadata": {},
     "output_type": "display_data"
    }
   ],
   "source": [
    "sns.distplot(sample_mean)"
   ]
  },
  {
   "cell_type": "code",
   "execution_count": 40,
   "id": "ae7ead06",
   "metadata": {},
   "outputs": [],
   "source": [
    "sample_mean=[]\n",
    "for i in range(1,100):\n",
    "    sample=np.random.choice(population,size=size)\n",
    "    sample_mean.append(np.mean(sample))"
   ]
  },
  {
   "cell_type": "code",
   "execution_count": 41,
   "id": "cb8c884b",
   "metadata": {},
   "outputs": [
    {
     "name": "stderr",
     "output_type": "stream",
     "text": [
      "C:\\Users\\DELL\\AppData\\Local\\Temp\\ipykernel_7924\\514007480.py:1: UserWarning: \n",
      "\n",
      "`distplot` is a deprecated function and will be removed in seaborn v0.14.0.\n",
      "\n",
      "Please adapt your code to use either `displot` (a figure-level function with\n",
      "similar flexibility) or `histplot` (an axes-level function for histograms).\n",
      "\n",
      "For a guide to updating your code to use the new functions, please see\n",
      "https://gist.github.com/mwaskom/de44147ed2974457ad6372750bbe5751\n",
      "\n",
      "  sns.distplot(sample_mean)\n"
     ]
    },
    {
     "data": {
      "text/plain": [
       "<Axes: ylabel='Density'>"
      ]
     },
     "execution_count": 41,
     "metadata": {},
     "output_type": "execute_result"
    },
    {
     "data": {
      "image/png": "[encoded data removed]",
      "text/plain": [
       "<Figure size 640x480 with 1 Axes>"
      ]
     },
     "metadata": {},
     "output_type": "display_data"
    }
   ],
   "source": [
    "sns.distplot(sample_mean)"
   ]
  },
  {
   "cell_type": "code",
   "execution_count": 45,
   "id": "0a96d279",
   "metadata": {},
   "outputs": [],
   "source": [
    "sample_mean=[]\n",
    "for i in range(1,500):\n",
    "    sample=np.random.choice(population,size=size,)\n",
    "    sample_mean.append(np.mean(sample))"
   ]
  },
  {
   "cell_type": "code",
   "execution_count": 46,
   "id": "42f4760f",
   "metadata": {},
   "outputs": [
    {
     "name": "stderr",
     "output_type": "stream",
     "text": [
      "C:\\Users\\DELL\\AppData\\Local\\Temp\\ipykernel_7924\\1644420451.py:1: UserWarning: \n",
      "\n",
      "`distplot` is a deprecated function and will be removed in seaborn v0.14.0.\n",
      "\n",
      "Please adapt your code to use either `displot` (a figure-level function with\n",
      "similar flexibility) or `histplot` (an axes-level function for histograms).\n",
      "\n",
      "For a guide to updating your code to use the new functions, please see\n",
      "https://gist.github.com/mwaskom/de44147ed2974457ad6372750bbe5751\n",
      "\n",
      "  sns.distplot(sample_mean,kde=True, color=\"black\")\n"
     ]
    },
    {
     "data": {
      "text/plain": [
       "<Axes: ylabel='Density'>"
      ]
     },
     "execution_count": 46,
     "metadata": {},
     "output_type": "execute_result"
    },
    {
     "data": {
      "image/png": "[encoded data removed]",
      "text/plain": [
       "<Figure size 640x480 with 1 Axes>"
      ]
     },
     "metadata": {},
     "output_type": "display_data"
    }
   ],
   "source": [
    "sns.distplot(sample_mean,kde=True, color=\"black\")"
   ]
  },
  {
   "cell_type": "markdown",
   "id": "1fdfcd07",
   "metadata": {},
   "source": [
    "# confidence interval and margin of error"
   ]
  },
  {
   "cell_type": "code",
   "execution_count": 47,
   "id": "268ccf39",
   "metadata": {},
   "outputs": [],
   "source": [
    "import scipy.stats as stats"
   ]
  },
  {
   "cell_type": "code",
   "execution_count": 51,
   "id": "b2f1524e",
   "metadata": {},
   "outputs": [],
   "source": [
    "population=np.random.randint(10,20,50)"
   ]
  },
  {
   "cell_type": "code",
   "execution_count": 52,
   "id": "35eef800",
   "metadata": {},
   "outputs": [
    {
     "data": {
      "text/plain": [
       "array([19, 11, 15, 18, 12, 18, 15, 13, 16, 17, 15, 16, 13, 18, 17, 12, 18,\n",
       "       19, 15, 17, 13, 17, 12, 13, 15, 19, 12, 18, 19, 13, 17, 14, 16, 18,\n",
       "       16, 18, 18, 12, 12, 13, 11, 12, 18, 15, 13, 17, 18, 15, 19, 14])"
      ]
     },
     "execution_count": 52,
     "metadata": {},
     "output_type": "execute_result"
    }
   ],
   "source": [
    "population"
   ]
  },
  {
   "cell_type": "code",
   "execution_count": 53,
   "id": "aa2282bb",
   "metadata": {},
   "outputs": [],
   "source": [
    "sample1=np.random.choice(population,20)\n",
    "sample2=np.random.choice(population,20)\n",
    "sample3=np.random.choice(population,20)\n",
    "sample4=np.random.choice(population,20)"
   ]
  },
  {
   "cell_type": "code",
   "execution_count": 54,
   "id": "8f5e8424",
   "metadata": {},
   "outputs": [],
   "source": [
    "mean_of_samples = []\n",
    "\n",
    "all_sample=[sample1,sample2,sample3,sample4]\n",
    "\n",
    "for sample in all_sample:\n",
    "    mean_of_samples.append(np.mean(sample))"
   ]
  },
  {
   "cell_type": "code",
   "execution_count": 55,
   "id": "c933ff6a",
   "metadata": {},
   "outputs": [
    {
     "data": {
      "text/plain": [
       "1.6448536269514722"
      ]
     },
     "execution_count": 55,
     "metadata": {},
     "output_type": "execute_result"
    }
   ],
   "source": [
    "stats.norm.ppf(q=0.95)"
   ]
  },
  {
   "cell_type": "code",
   "execution_count": 56,
   "id": "7fd90140",
   "metadata": {},
   "outputs": [],
   "source": [
    "z_critical = stats.norm.ppf(q=0.975)"
   ]
  },
  {
   "cell_type": "code",
   "execution_count": 57,
   "id": "c5499438",
   "metadata": {},
   "outputs": [],
   "source": [
    "t_critical = stats.t.ppf(q=0.975 , df=24)"
   ]
  },
  {
   "cell_type": "code",
   "execution_count": 59,
   "id": "4669802c",
   "metadata": {},
   "outputs": [],
   "source": [
    "margin_of_error = z_critical * (np.std(mean_of_samples)/np.sqrt(20))"
   ]
  },
  {
   "cell_type": "code",
   "execution_count": 61,
   "id": "a33d3380",
   "metadata": {},
   "outputs": [
    {
     "data": {
      "text/plain": [
       "15.030435798896388"
      ]
     },
     "execution_count": 61,
     "metadata": {},
     "output_type": "execute_result"
    }
   ],
   "source": [
    "np.mean(mean_of_samples)-margin_of_error"
   ]
  },
  {
   "cell_type": "code",
   "execution_count": 62,
   "id": "baeb5123",
   "metadata": {},
   "outputs": [
    {
     "data": {
      "text/plain": [
       "15.594564201103616"
      ]
     },
     "execution_count": 62,
     "metadata": {},
     "output_type": "execute_result"
    }
   ],
   "source": [
    "np.mean(mean_of_samples)+margin_of_error"
   ]
  },
  {
   "cell_type": "markdown",
   "id": "77e601f6",
   "metadata": {},
   "source": [
    "# z test"
   ]
  },
  {
   "cell_type": "code",
   "execution_count": 79,
   "id": "11d2e271",
   "metadata": {},
   "outputs": [],
   "source": [
    "from numpy.random import randn\n",
    "population = randn(100)"
   ]
  },
  {
   "cell_type": "code",
   "execution_count": 80,
   "id": "d148de91",
   "metadata": {},
   "outputs": [
    {
     "data": {
      "text/plain": [
       "array([ 5.93783289e-01, -6.98636994e-01, -1.70362519e-01, -3.46144850e-01,\n",
       "       -2.64228541e-01,  1.20563071e+00, -1.19793547e+00,  1.26999119e+00,\n",
       "       -1.68695635e-01,  2.84409303e-01,  8.06356272e-01,  2.54833650e-01,\n",
       "        1.68965011e+00,  2.00671416e-01, -3.88973344e-01,  7.68610762e-01,\n",
       "       -9.81187170e-01,  6.98273022e-02, -8.75207234e-01, -7.34713978e-01,\n",
       "        2.22346476e-03,  6.46565230e-01, -9.09741062e-02, -5.97950183e-01,\n",
       "        3.14431928e-01, -9.84403052e-01,  2.39700370e+00,  4.18382628e-01,\n",
       "        1.00177639e+00, -1.23762135e+00, -6.96274997e-02,  4.52648945e-01,\n",
       "       -2.28085731e-01,  4.58236338e-01, -8.18701829e-01, -7.17732155e-01,\n",
       "       -1.10457762e-01,  4.68227788e-03,  1.43022144e+00,  1.37580084e+00,\n",
       "       -9.22465680e-01,  6.36593596e-01,  8.42878583e-01,  1.39721138e-01,\n",
       "       -3.89687757e-01, -2.57878657e-01,  4.32969337e-01, -9.64968812e-01,\n",
       "        3.76272821e-02, -7.39790376e-01,  1.36512529e+00,  3.54462312e-01,\n",
       "        1.14221584e+00,  9.71307771e-01, -8.75393036e-02,  6.04757361e-01,\n",
       "       -1.89287009e-01, -1.18687849e-02, -1.44128865e+00,  1.90526380e+00,\n",
       "        3.93517218e-01, -4.66059918e-01,  1.37011426e+00, -5.07713061e-01,\n",
       "       -8.38364757e-01, -2.63835134e+00, -1.18729626e+00,  4.61643839e-01,\n",
       "        9.17050697e-01,  9.91090533e-01,  8.70180537e-01,  1.34939211e+00,\n",
       "        1.30801287e+00, -2.13799094e-02,  8.34039940e-01,  1.77486996e+00,\n",
       "        9.80506015e-01, -4.92416900e-01, -2.35534603e-02,  1.78013092e+00,\n",
       "       -2.19110868e-01, -2.11214580e-01, -1.21475992e+00,  1.90412288e+00,\n",
       "        3.59952537e-01,  7.88881838e-01, -2.51164780e-01,  6.55408391e-01,\n",
       "        5.09758848e-01, -2.90555182e-01,  2.58640103e-01,  1.36689988e+00,\n",
       "        4.88389336e-02, -1.13498680e-01,  2.07528758e+00, -6.57405783e-01,\n",
       "       -8.63405175e-01,  1.38865522e+00,  1.09937006e-02,  9.04248619e-01])"
      ]
     },
     "execution_count": 80,
     "metadata": {},
     "output_type": "execute_result"
    }
   ],
   "source": [
    "population"
   ]
  },
  {
   "cell_type": "code",
   "execution_count": 81,
   "id": "d53a5914",
   "metadata": {},
   "outputs": [
    {
     "name": "stderr",
     "output_type": "stream",
     "text": [
      "C:\\Users\\DELL\\AppData\\Local\\Temp\\ipykernel_7924\\1851847670.py:1: UserWarning: \n",
      "\n",
      "`distplot` is a deprecated function and will be removed in seaborn v0.14.0.\n",
      "\n",
      "Please adapt your code to use either `displot` (a figure-level function with\n",
      "similar flexibility) or `histplot` (an axes-level function for histograms).\n",
      "\n",
      "For a guide to updating your code to use the new functions, please see\n",
      "https://gist.github.com/mwaskom/de44147ed2974457ad6372750bbe5751\n",
      "\n",
      "  sns.distplot(data)\n"
     ]
    },
    {
     "data": {
      "text/plain": [
       "<Axes: ylabel='Density'>"
      ]
     },
     "execution_count": 81,
     "metadata": {},
     "output_type": "execute_result"
    },
    {
     "data": {
      "image/png": "[encoded data removed]",
      "text/plain": [
       "<Figure size 640x480 with 1 Axes>"
      ]
     },
     "metadata": {},
     "output_type": "display_data"
    }
   ],
   "source": [
    "sns.distplot(data)"
   ]
  },
  {
   "cell_type": "code",
   "execution_count": 82,
   "id": "e8e74e4f",
   "metadata": {},
   "outputs": [
    {
     "name": "stdout",
     "output_type": "stream",
     "text": [
      "here is the mean of the population :0.2169823193055758, here is the std dev 0.8989907704016993\n"
     ]
    }
   ],
   "source": [
    "print(f\"here is the mean of the population :{np.mean(population)}, here is the std dev {np.std(population)}\")"
   ]
  },
  {
   "cell_type": "code",
   "execution_count": 83,
   "id": "e29eae79",
   "metadata": {},
   "outputs": [],
   "source": [
    "null_mean = 0.21"
   ]
  },
  {
   "cell_type": "code",
   "execution_count": 84,
   "id": "4e193788",
   "metadata": {},
   "outputs": [
    {
     "ename": "SyntaxError",
     "evalue": "invalid syntax (3590211125.py, line 1)",
     "output_type": "error",
     "traceback": [
      "\u001b[1;36m  Cell \u001b[1;32mIn[84], line 1\u001b[1;36m\u001b[0m\n\u001b[1;33m    C.I = 95%\u001b[0m\n\u001b[1;37m             ^\u001b[0m\n\u001b[1;31mSyntaxError\u001b[0m\u001b[1;31m:\u001b[0m invalid syntax\n"
     ]
    }
   ],
   "source": [
    "C.I = 95%\n",
    "ALPHA = 5%"
   ]
  },
  {
   "cell_type": "code",
   "execution_count": 85,
   "id": "7dec0aa0",
   "metadata": {},
   "outputs": [
    {
     "ename": "NameError",
     "evalue": "name 'P' is not defined",
     "output_type": "error",
     "traceback": [
      "\u001b[1;31m---------------------------------------------------------------------------\u001b[0m",
      "\u001b[1;31mNameError\u001b[0m                                 Traceback (most recent call last)",
      "Cell \u001b[1;32mIn[85], line 1\u001b[0m\n\u001b[1;32m----> 1\u001b[0m \u001b[43mP\u001b[49m\u001b[38;5;241m<\u001b[39m\u001b[38;5;241m=\u001b[39m\u001b[38;5;241m0.05\u001b[39m \u001b[38;5;66;03m#REJECT THE NULL HYPOTHESIS\u001b[39;00m\n\u001b[0;32m      2\u001b[0m P\u001b[38;5;241m>\u001b[39m\u001b[38;5;241m0.05\u001b[39m\n",
      "\u001b[1;31mNameError\u001b[0m: name 'P' is not defined"
     ]
    }
   ],
   "source": [
    "P<=0.05 #REJECT THE NULL HYPOTHESIS\n",
    "P>0.05 #ACCEPT THE NULL HYPOTHESIS"
   ]
  },
  {
   "cell_type": "code",
   "execution_count": 86,
   "id": "80ba50f6",
   "metadata": {},
   "outputs": [],
   "source": [
    "#p_value = 0.05\n",
    "ALPHA = 0.05"
   ]
  },
  {
   "cell_type": "code",
   "execution_count": 87,
   "id": "f5cfb14f",
   "metadata": {},
   "outputs": [],
   "source": [
    "from statsmodels.stats.weightstats import ztest\n",
    "z_score,p_value=ztest(population,value=null_mean,alternative='larger')"
   ]
  },
  {
   "cell_type": "code",
   "execution_count": 91,
   "id": "b18e03b0",
   "metadata": {},
   "outputs": [
    {
     "data": {
      "text/plain": [
       "0.07727910251860144"
      ]
     },
     "execution_count": 91,
     "metadata": {},
     "output_type": "execute_result"
    }
   ],
   "source": [
    "z_score"
   ]
  },
  {
   "cell_type": "code",
   "execution_count": 88,
   "id": "d175ec78",
   "metadata": {},
   "outputs": [
    {
     "data": {
      "text/plain": [
       "0.4692007574794905"
      ]
     },
     "execution_count": 88,
     "metadata": {},
     "output_type": "execute_result"
    }
   ],
   "source": [
    "p_value"
   ]
  },
  {
   "cell_type": "code",
   "execution_count": 90,
   "id": "3bd10cbc",
   "metadata": {},
   "outputs": [
    {
     "name": "stdout",
     "output_type": "stream",
     "text": [
      "we are going to accept the null hypothesis\n"
     ]
    }
   ],
   "source": [
    "if p_value<=ALPHA:\n",
    "    print(\"Reject the null hypothesis\")\n",
    "else:\n",
    "    print(\"we are going to accept the null hypothesis\")"
   ]
  },
  {
   "cell_type": "code",
   "execution_count": null,
   "id": "0099182d",
   "metadata": {},
   "outputs": [],
   "source": []
  }
 ],
 "metadata": {
  "kernelspec": {
   "display_name": "Python 3 (ipykernel)",
   "language": "python",
   "name": "python3"
  },
  "language_info": {
   "codemirror_mode": {
    "name": "ipython",
    "version": 3
   },
   "file_extension": ".py",
   "mimetype": "text/x-python",
   "name": "python",
   "nbconvert_exporter": "python",
   "pygments_lexer": "ipython3",
   "version": "3.10.9"
  }
 },
 "nbformat": 4,
 "nbformat_minor": 5
}
